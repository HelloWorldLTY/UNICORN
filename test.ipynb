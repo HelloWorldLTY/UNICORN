{
 "cells": [
  {
   "cell_type": "code",
   "execution_count": 4,
   "id": "ede52026-ce48-4cab-a775-1682f2377ef4",
   "metadata": {},
   "outputs": [],
   "source": [
    "import scanpy as sc\n",
    "import numpy as np\n",
    "import pandas as pd\n",
    "import anndata as ad\n",
    "from seq2cells.utils.anndata_utils import pseudo_bulk"
   ]
  },
  {
   "cell_type": "code",
   "execution_count": 2,
   "id": "f3655c67-0395-40dd-8053-9bfc2a3e9ebf",
   "metadata": {},
   "outputs": [],
   "source": [
    "data_path = \"/gpfs/radev/project/ying_rex/tl688/seq2cells_data/multiome/10xmuleiome_seq_embeddings.h5ad\""
   ]
  },
  {
   "cell_type": "code",
   "execution_count": 5,
   "id": "ecd97a81-5335-4e6b-aa17-dfed05c68eb6",
   "metadata": {},
   "outputs": [],
   "source": [
    "anndata = ad.read(data_path)"
   ]
  },
  {
   "cell_type": "code",
   "execution_count": 11,
   "id": "fe76c250-929f-4149-88a0-75925feeb1ec",
   "metadata": {},
   "outputs": [],
   "source": [
    "anndata.layers['x_raw'] = anndata.X.copy()"
   ]
  },
  {
   "cell_type": "code",
   "execution_count": 14,
   "id": "91864426-be67-4a34-9c98-96bcc4b77f00",
   "metadata": {},
   "outputs": [
    {
     "data": {
      "text/html": [
       "<div>\n",
       "<style scoped>\n",
       "    .dataframe tbody tr th:only-of-type {\n",
       "        vertical-align: middle;\n",
       "    }\n",
       "\n",
       "    .dataframe tbody tr th {\n",
       "        vertical-align: top;\n",
       "    }\n",
       "\n",
       "    .dataframe thead th {\n",
       "        text-align: right;\n",
       "    }\n",
       "</style>\n",
       "<table border=\"1\" class=\"dataframe\">\n",
       "  <thead>\n",
       "    <tr style=\"text-align: right;\">\n",
       "      <th></th>\n",
       "      <th>feature_types</th>\n",
       "      <th>genome</th>\n",
       "      <th>chrom</th>\n",
       "      <th>chromStart</th>\n",
       "      <th>chromEnd</th>\n",
       "      <th>n_counts</th>\n",
       "      <th>highly_variable</th>\n",
       "      <th>batch</th>\n",
       "      <th>enf_set</th>\n",
       "    </tr>\n",
       "  </thead>\n",
       "  <tbody>\n",
       "    <tr>\n",
       "      <th>HES4</th>\n",
       "      <td>Gene Expression</td>\n",
       "      <td>GRCh38</td>\n",
       "      <td>chr1</td>\n",
       "      <td>998961</td>\n",
       "      <td>998961</td>\n",
       "      <td>776.0</td>\n",
       "      <td>True</td>\n",
       "      <td>gene</td>\n",
       "      <td>train</td>\n",
       "    </tr>\n",
       "    <tr>\n",
       "      <th>ISG15</th>\n",
       "      <td>Gene Expression</td>\n",
       "      <td>GRCh38</td>\n",
       "      <td>chr1</td>\n",
       "      <td>1001137</td>\n",
       "      <td>1001137</td>\n",
       "      <td>5597.0</td>\n",
       "      <td>True</td>\n",
       "      <td>gene</td>\n",
       "      <td>train</td>\n",
       "    </tr>\n",
       "    <tr>\n",
       "      <th>TNFRSF18</th>\n",
       "      <td>Gene Expression</td>\n",
       "      <td>GRCh38</td>\n",
       "      <td>chr1</td>\n",
       "      <td>1203507</td>\n",
       "      <td>1203507</td>\n",
       "      <td>346.0</td>\n",
       "      <td>True</td>\n",
       "      <td>gene</td>\n",
       "      <td>train</td>\n",
       "    </tr>\n",
       "    <tr>\n",
       "      <th>TNFRSF4</th>\n",
       "      <td>Gene Expression</td>\n",
       "      <td>GRCh38</td>\n",
       "      <td>chr1</td>\n",
       "      <td>1211339</td>\n",
       "      <td>1211339</td>\n",
       "      <td>380.0</td>\n",
       "      <td>True</td>\n",
       "      <td>gene</td>\n",
       "      <td>valid</td>\n",
       "    </tr>\n",
       "    <tr>\n",
       "      <th>AJAP1</th>\n",
       "      <td>Gene Expression</td>\n",
       "      <td>GRCh38</td>\n",
       "      <td>chr1</td>\n",
       "      <td>4654608</td>\n",
       "      <td>4654608</td>\n",
       "      <td>47.0</td>\n",
       "      <td>True</td>\n",
       "      <td>gene</td>\n",
       "      <td>test</td>\n",
       "    </tr>\n",
       "    <tr>\n",
       "      <th>...</th>\n",
       "      <td>...</td>\n",
       "      <td>...</td>\n",
       "      <td>...</td>\n",
       "      <td>...</td>\n",
       "      <td>...</td>\n",
       "      <td>...</td>\n",
       "      <td>...</td>\n",
       "      <td>...</td>\n",
       "      <td>...</td>\n",
       "    </tr>\n",
       "    <tr>\n",
       "      <th>chrX:155767383-155767733</th>\n",
       "      <td>Peaks</td>\n",
       "      <td>GRCh38</td>\n",
       "      <td>chrX</td>\n",
       "      <td>155767383</td>\n",
       "      <td>155767733</td>\n",
       "      <td>126.0</td>\n",
       "      <td>False</td>\n",
       "      <td>ataac</td>\n",
       "      <td>valid</td>\n",
       "    </tr>\n",
       "    <tr>\n",
       "      <th>chrX:155820122-155820523</th>\n",
       "      <td>Peaks</td>\n",
       "      <td>GRCh38</td>\n",
       "      <td>chrX</td>\n",
       "      <td>155820122</td>\n",
       "      <td>155820523</td>\n",
       "      <td>174.0</td>\n",
       "      <td>False</td>\n",
       "      <td>ataac</td>\n",
       "      <td>train</td>\n",
       "    </tr>\n",
       "    <tr>\n",
       "      <th>chrX:155841301-155841724</th>\n",
       "      <td>Peaks</td>\n",
       "      <td>GRCh38</td>\n",
       "      <td>chrX</td>\n",
       "      <td>155841301</td>\n",
       "      <td>155841724</td>\n",
       "      <td>216.0</td>\n",
       "      <td>False</td>\n",
       "      <td>ataac</td>\n",
       "      <td>train</td>\n",
       "    </tr>\n",
       "    <tr>\n",
       "      <th>chrX:155880572-155882091</th>\n",
       "      <td>Peaks</td>\n",
       "      <td>GRCh38</td>\n",
       "      <td>chrX</td>\n",
       "      <td>155880572</td>\n",
       "      <td>155882091</td>\n",
       "      <td>3445.0</td>\n",
       "      <td>False</td>\n",
       "      <td>ataac</td>\n",
       "      <td>valid</td>\n",
       "    </tr>\n",
       "    <tr>\n",
       "      <th>chrX:155966975-155967181</th>\n",
       "      <td>Peaks</td>\n",
       "      <td>GRCh38</td>\n",
       "      <td>chrX</td>\n",
       "      <td>155966975</td>\n",
       "      <td>155967181</td>\n",
       "      <td>108.0</td>\n",
       "      <td>False</td>\n",
       "      <td>ataac</td>\n",
       "      <td>train</td>\n",
       "    </tr>\n",
       "  </tbody>\n",
       "</table>\n",
       "<p>109145 rows × 9 columns</p>\n",
       "</div>"
      ],
      "text/plain": [
       "                            feature_types  genome chrom  chromStart  \\\n",
       "HES4                      Gene Expression  GRCh38  chr1      998961   \n",
       "ISG15                     Gene Expression  GRCh38  chr1     1001137   \n",
       "TNFRSF18                  Gene Expression  GRCh38  chr1     1203507   \n",
       "TNFRSF4                   Gene Expression  GRCh38  chr1     1211339   \n",
       "AJAP1                     Gene Expression  GRCh38  chr1     4654608   \n",
       "...                                   ...     ...   ...         ...   \n",
       "chrX:155767383-155767733            Peaks  GRCh38  chrX   155767383   \n",
       "chrX:155820122-155820523            Peaks  GRCh38  chrX   155820122   \n",
       "chrX:155841301-155841724            Peaks  GRCh38  chrX   155841301   \n",
       "chrX:155880572-155882091            Peaks  GRCh38  chrX   155880572   \n",
       "chrX:155966975-155967181            Peaks  GRCh38  chrX   155966975   \n",
       "\n",
       "                           chromEnd  n_counts  highly_variable  batch enf_set  \n",
       "HES4                         998961     776.0             True   gene   train  \n",
       "ISG15                       1001137    5597.0             True   gene   train  \n",
       "TNFRSF18                    1203507     346.0             True   gene   train  \n",
       "TNFRSF4                     1211339     380.0             True   gene   valid  \n",
       "AJAP1                       4654608      47.0             True   gene    test  \n",
       "...                             ...       ...              ...    ...     ...  \n",
       "chrX:155767383-155767733  155767733     126.0            False  ataac   valid  \n",
       "chrX:155820122-155820523  155820523     174.0            False  ataac   train  \n",
       "chrX:155841301-155841724  155841724     216.0            False  ataac   train  \n",
       "chrX:155880572-155882091  155882091    3445.0            False  ataac   valid  \n",
       "chrX:155966975-155967181  155967181     108.0            False  ataac   train  \n",
       "\n",
       "[109145 rows x 9 columns]"
      ]
     },
     "execution_count": 14,
     "metadata": {},
     "output_type": "execute_result"
    }
   ],
   "source": [
    "anndata.obs"
   ]
  },
  {
   "cell_type": "code",
   "execution_count": 22,
   "id": "b0cb38e0-12ea-4550-a23e-c5fd396762b4",
   "metadata": {},
   "outputs": [
    {
     "data": {
      "text/plain": [
       "Index(['AAACAGCCAATCCCTT-1', 'AAACAGCCAATGCGCT-1', 'AAACAGCCACCAACCG-1',\n",
       "       'AAACAGCCAGGATAAC-1', 'AAACAGCCAGTTTACG-1', 'AAACAGCCATCCAGGT-1',\n",
       "       'AAACATGCAAGGTCCT-1', 'AAACATGCACCGGCTA-1', 'AAACATGCACTTGTTC-1',\n",
       "       'AAACATGCAGCAAGTG-1',\n",
       "       ...\n",
       "       'TTTGTGTTCGATAACC-1', 'TTTGTGTTCGGGACCT-1', 'TTTGTGTTCGTCAAGT-1',\n",
       "       'TTTGTGTTCTCCATAT-1', 'TTTGTTGGTCAGGAAG-1', 'TTTGTTGGTGACATGC-1',\n",
       "       'TTTGTTGGTGTTAAAC-1', 'TTTGTTGGTTAGGATT-1', 'TTTGTTGGTTGGTTAG-1',\n",
       "       'TTTGTTGGTTTGCAGA-1'],\n",
       "      dtype='object', name='cells', length=9631)"
      ]
     },
     "execution_count": 22,
     "metadata": {},
     "output_type": "execute_result"
    }
   ],
   "source": [
    "anndata.var_names.unique()"
   ]
  },
  {
   "cell_type": "code",
   "execution_count": 17,
   "id": "c88c9e45-1dc3-4f4b-bd0f-bcd2200bba47",
   "metadata": {},
   "outputs": [
    {
     "data": {
      "text/plain": [
       "array([], dtype=float64)"
      ]
     },
     "execution_count": 17,
     "metadata": {},
     "output_type": "execute_result"
    }
   ],
   "source": [
    "np.unique(anndata.var)"
   ]
  },
  {
   "cell_type": "code",
   "execution_count": 26,
   "id": "516253aa-0f3c-4974-8b5d-a2bfe62b57cd",
   "metadata": {},
   "outputs": [
    {
     "data": {
      "text/plain": [
       "['gene', 'gene', 'gene', 'gene', 'gene', ..., 'ataac', 'ataac', 'ataac', 'ataac', 'ataac']\n",
       "Length: 109145\n",
       "Categories (2, object): ['gene', 'ataac']"
      ]
     },
     "execution_count": 26,
     "metadata": {},
     "output_type": "execute_result"
    }
   ],
   "source": [
    "anndata.obs[\"batch\"].values"
   ]
  },
  {
   "cell_type": "code",
   "execution_count": 27,
   "id": "07ff3402-5eb5-4e81-bb8a-937ea5058182",
   "metadata": {},
   "outputs": [
    {
     "data": {
      "text/plain": [
       "View of AnnData object with n_obs × n_vars = 1999 × 9631\n",
       "    obs: 'feature_types', 'genome', 'chrom', 'chromStart', 'chromEnd', 'n_counts', 'highly_variable', 'batch', 'enf_set'\n",
       "    obsm: 'seq_embedding', 'seq_embeddings'\n",
       "    layers: 'x_raw'"
      ]
     },
     "execution_count": 27,
     "metadata": {},
     "output_type": "execute_result"
    }
   ],
   "source": [
    "anndata[anndata.obs[\"batch\"] == \"gene\"]"
   ]
  },
  {
   "cell_type": "code",
   "execution_count": 29,
   "id": "bbb36861-7867-4d1e-90d5-4e9661398b47",
   "metadata": {},
   "outputs": [
    {
     "data": {
      "text/plain": [
       "tensor([[ 0.8846, -1.8539, -1.8571, -0.1700,  0.2262,  2.0830],\n",
       "        [ 0.1571,  0.8517, -0.6254,  0.5414, -1.0195, -0.2310],\n",
       "        [ 0.5521,  0.1505,  0.7689, -0.5463, -0.6307, -0.2077],\n",
       "        [ 1.5297, -0.4966,  0.4956,  0.2710,  0.9249, -0.3373],\n",
       "        [-0.3356,  0.6925,  0.1537,  0.0027,  0.4008, -0.1217]])"
      ]
     },
     "execution_count": 29,
     "metadata": {},
     "output_type": "execute_result"
    }
   ],
   "source": [
    "import torch\n",
    "torch.randn(5, 6)"
   ]
  },
  {
   "cell_type": "code",
   "execution_count": null,
   "id": "716776db-f3d5-454d-a804-988c916771c0",
   "metadata": {},
   "outputs": [],
   "source": []
  },
  {
   "cell_type": "code",
   "execution_count": null,
   "id": "378a96e4-d99a-4e6d-9ce7-ea56a3d9621d",
   "metadata": {},
   "outputs": [],
   "source": [
    "# sampled_adata_test = sampled_adata_test.T\n",
    "sampled_adata_test.layers['x_raw'] = sampled_adata_test.X.copy()\n",
    "sampled_adata_test = pseudo_bulk(sampled_adata_test,\n",
    "            genes=list(sampled_adata_test.obs['ens_id']),\n",
    "            cell_type_col='cell types',\n",
    "            gene_col='ens_id',\n",
    "            mode='mean',\n",
    "            expr_threshold=0,\n",
    "            mem_efficient_mode=True,\n",
    "            layer='x_raw')"
   ]
  },
  {
   "cell_type": "code",
   "execution_count": null,
   "id": "3d497aa0-797b-420b-a352-880ccd66abb0",
   "metadata": {},
   "outputs": [],
   "source": []
  }
 ],
 "metadata": {
  "kernelspec": {
   "display_name": "Python 3 (ipykernel)",
   "language": "python",
   "name": "python3"
  },
  "language_info": {
   "codemirror_mode": {
    "name": "ipython",
    "version": 3
   },
   "file_extension": ".py",
   "mimetype": "text/x-python",
   "name": "python",
   "nbconvert_exporter": "python",
   "pygments_lexer": "ipython3",
   "version": "3.8.13"
  }
 },
 "nbformat": 4,
 "nbformat_minor": 5
}
