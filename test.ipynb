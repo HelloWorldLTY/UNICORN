{
 "cells": [
  {
   "cell_type": "code",
   "execution_count": 97,
   "id": "ede52026-ce48-4cab-a775-1682f2377ef4",
   "metadata": {},
   "outputs": [],
   "source": [
    "import torch\n",
    "import scanpy as sc\n",
    "import numpy as np\n",
    "import pandas as pd\n",
    "import anndata as ad\n",
    "from seq2cells.utils.anndata_utils import pseudo_bulk"
   ]
  },
  {
   "cell_type": "code",
   "execution_count": 98,
   "id": "f3655c67-0395-40dd-8053-9bfc2a3e9ebf",
   "metadata": {},
   "outputs": [],
   "source": [
    "data_path = \"/gpfs/radev/project/ying_rex/tl688/seq2cells_data/multiome/10xmuleiome_seq_embeddings.h5ad\""
   ]
  },
  {
   "cell_type": "code",
   "execution_count": 99,
   "id": "ecd97a81-5335-4e6b-aa17-dfed05c68eb6",
   "metadata": {},
   "outputs": [],
   "source": [
    "anndata = ad.read(data_path)"
   ]
  },
  {
   "cell_type": "code",
   "execution_count": 11,
   "id": "fe76c250-929f-4149-88a0-75925feeb1ec",
   "metadata": {},
   "outputs": [],
   "source": [
    "anndata.layers['x_raw'] = anndata.X.copy()"
   ]
  },
  {
   "cell_type": "code",
   "execution_count": 102,
   "id": "91864426-be67-4a34-9c98-96bcc4b77f00",
   "metadata": {},
   "outputs": [
    {
     "data": {
      "text/plain": [
       "<109145x9631 sparse matrix of type '<class 'numpy.float32'>'\n",
       "\twith 90477972 stored elements in Compressed Sparse Row format>"
      ]
     },
     "execution_count": 102,
     "metadata": {},
     "output_type": "execute_result"
    }
   ],
   "source": [
    "anndata.X"
   ]
  },
  {
   "cell_type": "code",
   "execution_count": 22,
   "id": "b0cb38e0-12ea-4550-a23e-c5fd396762b4",
   "metadata": {},
   "outputs": [
    {
     "data": {
      "text/plain": [
       "Index(['AAACAGCCAATCCCTT-1', 'AAACAGCCAATGCGCT-1', 'AAACAGCCACCAACCG-1',\n",
       "       'AAACAGCCAGGATAAC-1', 'AAACAGCCAGTTTACG-1', 'AAACAGCCATCCAGGT-1',\n",
       "       'AAACATGCAAGGTCCT-1', 'AAACATGCACCGGCTA-1', 'AAACATGCACTTGTTC-1',\n",
       "       'AAACATGCAGCAAGTG-1',\n",
       "       ...\n",
       "       'TTTGTGTTCGATAACC-1', 'TTTGTGTTCGGGACCT-1', 'TTTGTGTTCGTCAAGT-1',\n",
       "       'TTTGTGTTCTCCATAT-1', 'TTTGTTGGTCAGGAAG-1', 'TTTGTTGGTGACATGC-1',\n",
       "       'TTTGTTGGTGTTAAAC-1', 'TTTGTTGGTTAGGATT-1', 'TTTGTTGGTTGGTTAG-1',\n",
       "       'TTTGTTGGTTTGCAGA-1'],\n",
       "      dtype='object', name='cells', length=9631)"
      ]
     },
     "execution_count": 22,
     "metadata": {},
     "output_type": "execute_result"
    }
   ],
   "source": [
    "anndata.var_names.unique()"
   ]
  },
  {
   "cell_type": "code",
   "execution_count": 17,
   "id": "c88c9e45-1dc3-4f4b-bd0f-bcd2200bba47",
   "metadata": {},
   "outputs": [
    {
     "data": {
      "text/plain": [
       "array([], dtype=float64)"
      ]
     },
     "execution_count": 17,
     "metadata": {},
     "output_type": "execute_result"
    }
   ],
   "source": [
    "np.unique(anndata.var)"
   ]
  },
  {
   "cell_type": "code",
   "execution_count": 26,
   "id": "516253aa-0f3c-4974-8b5d-a2bfe62b57cd",
   "metadata": {},
   "outputs": [
    {
     "data": {
      "text/plain": [
       "['gene', 'gene', 'gene', 'gene', 'gene', ..., 'ataac', 'ataac', 'ataac', 'ataac', 'ataac']\n",
       "Length: 109145\n",
       "Categories (2, object): ['gene', 'ataac']"
      ]
     },
     "execution_count": 26,
     "metadata": {},
     "output_type": "execute_result"
    }
   ],
   "source": [
    "anndata.obs[\"batch\"].values"
   ]
  },
  {
   "cell_type": "code",
   "execution_count": 106,
   "id": "07ff3402-5eb5-4e81-bb8a-937ea5058182",
   "metadata": {},
   "outputs": [],
   "source": [
    "gene_X = anndata[anndata.obs[\"batch\"] == \"gene\"].X.toarray()"
   ]
  },
  {
   "cell_type": "code",
   "execution_count": 113,
   "id": "bbb36861-7867-4d1e-90d5-4e9661398b47",
   "metadata": {},
   "outputs": [
    {
     "data": {
      "text/plain": [
       "array([-0.17732954, -0.17732954, -0.17732954, ..., -0.17732954,\n",
       "       -0.17732954, -0.17732954], dtype=float32)"
      ]
     },
     "execution_count": 113,
     "metadata": {},
     "output_type": "execute_result"
    }
   ],
   "source": [
    "np.exp(gene_X[0]) - 1"
   ]
  },
  {
   "cell_type": "code",
   "execution_count": null,
   "id": "716776db-f3d5-454d-a804-988c916771c0",
   "metadata": {},
   "outputs": [],
   "source": []
  },
  {
   "cell_type": "code",
   "execution_count": 31,
   "id": "84c29a6e-ca28-42eb-bdbe-26ff03f92a37",
   "metadata": {},
   "outputs": [],
   "source": [
    "table = pd.read_csv(\"/home/th748/scratch/seq2cells/example_input_files_gene_info_table.csv\")"
   ]
  },
  {
   "cell_type": "code",
   "execution_count": 32,
   "id": "9c8335a8-77fa-45ec-b81a-20c290eb4fb7",
   "metadata": {},
   "outputs": [
    {
     "data": {
      "text/html": [
       "<div>\n",
       "<style scoped>\n",
       "    .dataframe tbody tr th:only-of-type {\n",
       "        vertical-align: middle;\n",
       "    }\n",
       "\n",
       "    .dataframe tbody tr th {\n",
       "        vertical-align: top;\n",
       "    }\n",
       "\n",
       "    .dataframe thead th {\n",
       "        text-align: right;\n",
       "    }\n",
       "</style>\n",
       "<table border=\"1\" class=\"dataframe\">\n",
       "  <thead>\n",
       "    <tr style=\"text-align: right;\">\n",
       "      <th></th>\n",
       "      <th>Unnamed: 0</th>\n",
       "      <th>ensembl_id</th>\n",
       "      <th>gene_name</th>\n",
       "      <th>gene_type</th>\n",
       "    </tr>\n",
       "  </thead>\n",
       "  <tbody>\n",
       "    <tr>\n",
       "      <th>0</th>\n",
       "      <td>0</td>\n",
       "      <td>ENSG00000000003</td>\n",
       "      <td>TSPAN6</td>\n",
       "      <td>protein_coding</td>\n",
       "    </tr>\n",
       "    <tr>\n",
       "      <th>1</th>\n",
       "      <td>1</td>\n",
       "      <td>ENSG00000000005</td>\n",
       "      <td>TNMD</td>\n",
       "      <td>protein_coding</td>\n",
       "    </tr>\n",
       "    <tr>\n",
       "      <th>2</th>\n",
       "      <td>2</td>\n",
       "      <td>ENSG00000000419</td>\n",
       "      <td>DPM1</td>\n",
       "      <td>protein_coding</td>\n",
       "    </tr>\n",
       "    <tr>\n",
       "      <th>3</th>\n",
       "      <td>3</td>\n",
       "      <td>ENSG00000000457</td>\n",
       "      <td>SCYL3</td>\n",
       "      <td>protein_coding</td>\n",
       "    </tr>\n",
       "    <tr>\n",
       "      <th>4</th>\n",
       "      <td>4</td>\n",
       "      <td>ENSG00000000460</td>\n",
       "      <td>C1orf112</td>\n",
       "      <td>protein_coding</td>\n",
       "    </tr>\n",
       "    <tr>\n",
       "      <th>...</th>\n",
       "      <td>...</td>\n",
       "      <td>...</td>\n",
       "      <td>...</td>\n",
       "      <td>...</td>\n",
       "    </tr>\n",
       "    <tr>\n",
       "      <th>80524</th>\n",
       "      <td>80524</td>\n",
       "      <td>ENSGunknown_pk</td>\n",
       "      <td>pk</td>\n",
       "      <td>NaN</td>\n",
       "    </tr>\n",
       "    <tr>\n",
       "      <th>80525</th>\n",
       "      <td>80525</td>\n",
       "      <td>ENSGunknown_uc-338</td>\n",
       "      <td>uc-338</td>\n",
       "      <td>NaN</td>\n",
       "    </tr>\n",
       "    <tr>\n",
       "      <th>80526</th>\n",
       "      <td>80526</td>\n",
       "      <td>ENSGunknown_uc-338_1</td>\n",
       "      <td>uc-338.1</td>\n",
       "      <td>NaN</td>\n",
       "    </tr>\n",
       "    <tr>\n",
       "      <th>80527</th>\n",
       "      <td>80527</td>\n",
       "      <td>ENSGunknown_uc-338_2</td>\n",
       "      <td>uc-338.2</td>\n",
       "      <td>NaN</td>\n",
       "    </tr>\n",
       "    <tr>\n",
       "      <th>80528</th>\n",
       "      <td>80528</td>\n",
       "      <td>ENSGunknown_uc-338_3</td>\n",
       "      <td>uc-338.3</td>\n",
       "      <td>NaN</td>\n",
       "    </tr>\n",
       "  </tbody>\n",
       "</table>\n",
       "<p>80529 rows × 4 columns</p>\n",
       "</div>"
      ],
      "text/plain": [
       "       Unnamed: 0            ensembl_id gene_name       gene_type\n",
       "0               0       ENSG00000000003    TSPAN6  protein_coding\n",
       "1               1       ENSG00000000005      TNMD  protein_coding\n",
       "2               2       ENSG00000000419      DPM1  protein_coding\n",
       "3               3       ENSG00000000457     SCYL3  protein_coding\n",
       "4               4       ENSG00000000460  C1orf112  protein_coding\n",
       "...           ...                   ...       ...             ...\n",
       "80524       80524        ENSGunknown_pk        pk             NaN\n",
       "80525       80525    ENSGunknown_uc-338    uc-338             NaN\n",
       "80526       80526  ENSGunknown_uc-338_1  uc-338.1             NaN\n",
       "80527       80527  ENSGunknown_uc-338_2  uc-338.2             NaN\n",
       "80528       80528  ENSGunknown_uc-338_3  uc-338.3             NaN\n",
       "\n",
       "[80529 rows x 4 columns]"
      ]
     },
     "execution_count": 32,
     "metadata": {},
     "output_type": "execute_result"
    }
   ],
   "source": [
    "table"
   ]
  },
  {
   "cell_type": "code",
   "execution_count": 34,
   "id": "28687141-0607-4604-99b1-811803b9cbd8",
   "metadata": {},
   "outputs": [
    {
     "data": {
      "text/html": [
       "<div>\n",
       "<style scoped>\n",
       "    .dataframe tbody tr th:only-of-type {\n",
       "        vertical-align: middle;\n",
       "    }\n",
       "\n",
       "    .dataframe tbody tr th {\n",
       "        vertical-align: top;\n",
       "    }\n",
       "\n",
       "    .dataframe thead th {\n",
       "        text-align: right;\n",
       "    }\n",
       "</style>\n",
       "<table border=\"1\" class=\"dataframe\">\n",
       "  <thead>\n",
       "    <tr style=\"text-align: right;\">\n",
       "      <th></th>\n",
       "      <th>feature_types</th>\n",
       "      <th>genome</th>\n",
       "      <th>chrom</th>\n",
       "      <th>chromStart</th>\n",
       "      <th>chromEnd</th>\n",
       "      <th>n_counts</th>\n",
       "      <th>highly_variable</th>\n",
       "      <th>batch</th>\n",
       "      <th>enf_set</th>\n",
       "    </tr>\n",
       "  </thead>\n",
       "  <tbody>\n",
       "    <tr>\n",
       "      <th>HES4</th>\n",
       "      <td>Gene Expression</td>\n",
       "      <td>GRCh38</td>\n",
       "      <td>chr1</td>\n",
       "      <td>998961</td>\n",
       "      <td>998961</td>\n",
       "      <td>776.0</td>\n",
       "      <td>True</td>\n",
       "      <td>gene</td>\n",
       "      <td>train</td>\n",
       "    </tr>\n",
       "    <tr>\n",
       "      <th>ISG15</th>\n",
       "      <td>Gene Expression</td>\n",
       "      <td>GRCh38</td>\n",
       "      <td>chr1</td>\n",
       "      <td>1001137</td>\n",
       "      <td>1001137</td>\n",
       "      <td>5597.0</td>\n",
       "      <td>True</td>\n",
       "      <td>gene</td>\n",
       "      <td>train</td>\n",
       "    </tr>\n",
       "    <tr>\n",
       "      <th>TNFRSF18</th>\n",
       "      <td>Gene Expression</td>\n",
       "      <td>GRCh38</td>\n",
       "      <td>chr1</td>\n",
       "      <td>1203507</td>\n",
       "      <td>1203507</td>\n",
       "      <td>346.0</td>\n",
       "      <td>True</td>\n",
       "      <td>gene</td>\n",
       "      <td>train</td>\n",
       "    </tr>\n",
       "    <tr>\n",
       "      <th>TNFRSF4</th>\n",
       "      <td>Gene Expression</td>\n",
       "      <td>GRCh38</td>\n",
       "      <td>chr1</td>\n",
       "      <td>1211339</td>\n",
       "      <td>1211339</td>\n",
       "      <td>380.0</td>\n",
       "      <td>True</td>\n",
       "      <td>gene</td>\n",
       "      <td>valid</td>\n",
       "    </tr>\n",
       "    <tr>\n",
       "      <th>AJAP1</th>\n",
       "      <td>Gene Expression</td>\n",
       "      <td>GRCh38</td>\n",
       "      <td>chr1</td>\n",
       "      <td>4654608</td>\n",
       "      <td>4654608</td>\n",
       "      <td>47.0</td>\n",
       "      <td>True</td>\n",
       "      <td>gene</td>\n",
       "      <td>test</td>\n",
       "    </tr>\n",
       "    <tr>\n",
       "      <th>...</th>\n",
       "      <td>...</td>\n",
       "      <td>...</td>\n",
       "      <td>...</td>\n",
       "      <td>...</td>\n",
       "      <td>...</td>\n",
       "      <td>...</td>\n",
       "      <td>...</td>\n",
       "      <td>...</td>\n",
       "      <td>...</td>\n",
       "    </tr>\n",
       "    <tr>\n",
       "      <th>chrX:155767383-155767733</th>\n",
       "      <td>Peaks</td>\n",
       "      <td>GRCh38</td>\n",
       "      <td>chrX</td>\n",
       "      <td>155767383</td>\n",
       "      <td>155767733</td>\n",
       "      <td>126.0</td>\n",
       "      <td>False</td>\n",
       "      <td>ataac</td>\n",
       "      <td>valid</td>\n",
       "    </tr>\n",
       "    <tr>\n",
       "      <th>chrX:155820122-155820523</th>\n",
       "      <td>Peaks</td>\n",
       "      <td>GRCh38</td>\n",
       "      <td>chrX</td>\n",
       "      <td>155820122</td>\n",
       "      <td>155820523</td>\n",
       "      <td>174.0</td>\n",
       "      <td>False</td>\n",
       "      <td>ataac</td>\n",
       "      <td>train</td>\n",
       "    </tr>\n",
       "    <tr>\n",
       "      <th>chrX:155841301-155841724</th>\n",
       "      <td>Peaks</td>\n",
       "      <td>GRCh38</td>\n",
       "      <td>chrX</td>\n",
       "      <td>155841301</td>\n",
       "      <td>155841724</td>\n",
       "      <td>216.0</td>\n",
       "      <td>False</td>\n",
       "      <td>ataac</td>\n",
       "      <td>train</td>\n",
       "    </tr>\n",
       "    <tr>\n",
       "      <th>chrX:155880572-155882091</th>\n",
       "      <td>Peaks</td>\n",
       "      <td>GRCh38</td>\n",
       "      <td>chrX</td>\n",
       "      <td>155880572</td>\n",
       "      <td>155882091</td>\n",
       "      <td>3445.0</td>\n",
       "      <td>False</td>\n",
       "      <td>ataac</td>\n",
       "      <td>valid</td>\n",
       "    </tr>\n",
       "    <tr>\n",
       "      <th>chrX:155966975-155967181</th>\n",
       "      <td>Peaks</td>\n",
       "      <td>GRCh38</td>\n",
       "      <td>chrX</td>\n",
       "      <td>155966975</td>\n",
       "      <td>155967181</td>\n",
       "      <td>108.0</td>\n",
       "      <td>False</td>\n",
       "      <td>ataac</td>\n",
       "      <td>train</td>\n",
       "    </tr>\n",
       "  </tbody>\n",
       "</table>\n",
       "<p>109145 rows × 9 columns</p>\n",
       "</div>"
      ],
      "text/plain": [
       "                            feature_types  genome chrom  chromStart  \\\n",
       "HES4                      Gene Expression  GRCh38  chr1      998961   \n",
       "ISG15                     Gene Expression  GRCh38  chr1     1001137   \n",
       "TNFRSF18                  Gene Expression  GRCh38  chr1     1203507   \n",
       "TNFRSF4                   Gene Expression  GRCh38  chr1     1211339   \n",
       "AJAP1                     Gene Expression  GRCh38  chr1     4654608   \n",
       "...                                   ...     ...   ...         ...   \n",
       "chrX:155767383-155767733            Peaks  GRCh38  chrX   155767383   \n",
       "chrX:155820122-155820523            Peaks  GRCh38  chrX   155820122   \n",
       "chrX:155841301-155841724            Peaks  GRCh38  chrX   155841301   \n",
       "chrX:155880572-155882091            Peaks  GRCh38  chrX   155880572   \n",
       "chrX:155966975-155967181            Peaks  GRCh38  chrX   155966975   \n",
       "\n",
       "                           chromEnd  n_counts  highly_variable  batch enf_set  \n",
       "HES4                         998961     776.0             True   gene   train  \n",
       "ISG15                       1001137    5597.0             True   gene   train  \n",
       "TNFRSF18                    1203507     346.0             True   gene   train  \n",
       "TNFRSF4                     1211339     380.0             True   gene   valid  \n",
       "AJAP1                       4654608      47.0             True   gene    test  \n",
       "...                             ...       ...              ...    ...     ...  \n",
       "chrX:155767383-155767733  155767733     126.0            False  ataac   valid  \n",
       "chrX:155820122-155820523  155820523     174.0            False  ataac   train  \n",
       "chrX:155841301-155841724  155841724     216.0            False  ataac   train  \n",
       "chrX:155880572-155882091  155882091    3445.0            False  ataac   valid  \n",
       "chrX:155966975-155967181  155967181     108.0            False  ataac   train  \n",
       "\n",
       "[109145 rows x 9 columns]"
      ]
     },
     "execution_count": 34,
     "metadata": {},
     "output_type": "execute_result"
    }
   ],
   "source": [
    "anndata.obs"
   ]
  },
  {
   "cell_type": "code",
   "execution_count": 40,
   "id": "d946e654-5955-4f8b-9930-a7db037daa8d",
   "metadata": {},
   "outputs": [
    {
     "data": {
      "text/plain": [
       "(46,)"
      ]
     },
     "execution_count": 40,
     "metadata": {},
     "output_type": "execute_result"
    }
   ],
   "source": [
    "table[\"gene_type\"].unique().shape"
   ]
  },
  {
   "cell_type": "code",
   "execution_count": 94,
   "id": "91516655-4dae-47be-a4bf-03cb263666de",
   "metadata": {},
   "outputs": [],
   "source": [
    "def get_logits_from_logistic_pars(loc, log_scale, num_classes = 10):\n",
    "    loc = loc.unsqueeze(-1)\n",
    "    log_scale = log_scale.unsqueeze(-1)\n",
    "\n",
    "    inv_scale = (-log_scale + 2.0).exp()\n",
    "    \n",
    "    bin_width = 2.0 / (num_classes - 1)\n",
    "    bin_centers = torch.linspace(-1.0, 1.0, num_classes).to(loc.device)\n",
    "    for dim in range(loc.ndim - 1):\n",
    "        bin_centers = torch.unsqueeze(bin_centers, dim=0)\n",
    "    bin_centers = bin_centers - loc\n",
    "    log_cdf_min = -torch.log1p((-inv_scale * (bin_centers - 0.5 * bin_width)).exp())\n",
    "    log_cdf_plus = -torch.log1p((-inv_scale * (bin_centers + 0.5 * bin_width)).exp())\n",
    "    logits = log_minus_exp(log_cdf_plus, log_cdf_min)\n",
    "    return logits\n",
    "\n",
    "def log_minus_exp(a, b, epsilon=1.e-6):\n",
    "    return a + torch.log1p(-torch.exp(b - a) + epsilon)"
   ]
  },
  {
   "cell_type": "code",
   "execution_count": 95,
   "id": "be42c6de-995d-4de7-847c-b61ee3b2a1a6",
   "metadata": {},
   "outputs": [
    {
     "data": {
      "text/plain": [
       "tensor([[[-6.7849, -5.1498, -3.5432, -2.0709, -1.0853, -1.0853, -2.0709,\n",
       "          -3.5432, -5.1497, -6.7840],\n",
       "         [-6.7849, -5.1498, -3.5432, -2.0709, -1.0853, -1.0853, -2.0709,\n",
       "          -3.5432, -5.1497, -6.7840],\n",
       "         [-6.7849, -5.1498, -3.5432, -2.0709, -1.0853, -1.0853, -2.0709,\n",
       "          -3.5432, -5.1497, -6.7840],\n",
       "         [-6.7849, -5.1498, -3.5432, -2.0709, -1.0853, -1.0853, -2.0709,\n",
       "          -3.5432, -5.1497, -6.7840],\n",
       "         [-6.7849, -5.1498, -3.5432, -2.0709, -1.0853, -1.0853, -2.0709,\n",
       "          -3.5432, -5.1497, -6.7840],\n",
       "         [-6.7849, -5.1498, -3.5432, -2.0709, -1.0853, -1.0853, -2.0709,\n",
       "          -3.5432, -5.1497, -6.7840],\n",
       "         [-6.7849, -5.1498, -3.5432, -2.0709, -1.0853, -1.0853, -2.0709,\n",
       "          -3.5432, -5.1497, -6.7840],\n",
       "         [-6.7849, -5.1498, -3.5432, -2.0709, -1.0853, -1.0853, -2.0709,\n",
       "          -3.5432, -5.1497, -6.7840],\n",
       "         [-6.7849, -5.1498, -3.5432, -2.0709, -1.0853, -1.0853, -2.0709,\n",
       "          -3.5432, -5.1497, -6.7840],\n",
       "         [-6.7849, -5.1498, -3.5432, -2.0709, -1.0853, -1.0853, -2.0709,\n",
       "          -3.5432, -5.1497, -6.7840]],\n",
       "\n",
       "        [[-6.7849, -5.1498, -3.5432, -2.0709, -1.0853, -1.0853, -2.0709,\n",
       "          -3.5432, -5.1497, -6.7840],\n",
       "         [-6.7849, -5.1498, -3.5432, -2.0709, -1.0853, -1.0853, -2.0709,\n",
       "          -3.5432, -5.1497, -6.7840],\n",
       "         [-6.7849, -5.1498, -3.5432, -2.0709, -1.0853, -1.0853, -2.0709,\n",
       "          -3.5432, -5.1497, -6.7840],\n",
       "         [-6.7849, -5.1498, -3.5432, -2.0709, -1.0853, -1.0853, -2.0709,\n",
       "          -3.5432, -5.1497, -6.7840],\n",
       "         [-6.7849, -5.1498, -3.5432, -2.0709, -1.0853, -1.0853, -2.0709,\n",
       "          -3.5432, -5.1497, -6.7840],\n",
       "         [-6.7849, -5.1498, -3.5432, -2.0709, -1.0853, -1.0853, -2.0709,\n",
       "          -3.5432, -5.1497, -6.7840],\n",
       "         [-6.7849, -5.1498, -3.5432, -2.0709, -1.0853, -1.0853, -2.0709,\n",
       "          -3.5432, -5.1497, -6.7840],\n",
       "         [-6.7849, -5.1498, -3.5432, -2.0709, -1.0853, -1.0853, -2.0709,\n",
       "          -3.5432, -5.1497, -6.7840],\n",
       "         [-6.7849, -5.1498, -3.5432, -2.0709, -1.0853, -1.0853, -2.0709,\n",
       "          -3.5432, -5.1497, -6.7840],\n",
       "         [-6.7849, -5.1498, -3.5432, -2.0709, -1.0853, -1.0853, -2.0709,\n",
       "          -3.5432, -5.1497, -6.7840]],\n",
       "\n",
       "        [[-6.7849, -5.1498, -3.5432, -2.0709, -1.0853, -1.0853, -2.0709,\n",
       "          -3.5432, -5.1497, -6.7840],\n",
       "         [-6.7849, -5.1498, -3.5432, -2.0709, -1.0853, -1.0853, -2.0709,\n",
       "          -3.5432, -5.1497, -6.7840],\n",
       "         [-6.7849, -5.1498, -3.5432, -2.0709, -1.0853, -1.0853, -2.0709,\n",
       "          -3.5432, -5.1497, -6.7840],\n",
       "         [-6.7849, -5.1498, -3.5432, -2.0709, -1.0853, -1.0853, -2.0709,\n",
       "          -3.5432, -5.1497, -6.7840],\n",
       "         [-6.7849, -5.1498, -3.5432, -2.0709, -1.0853, -1.0853, -2.0709,\n",
       "          -3.5432, -5.1497, -6.7840],\n",
       "         [-6.7849, -5.1498, -3.5432, -2.0709, -1.0853, -1.0853, -2.0709,\n",
       "          -3.5432, -5.1497, -6.7840],\n",
       "         [-6.7849, -5.1498, -3.5432, -2.0709, -1.0853, -1.0853, -2.0709,\n",
       "          -3.5432, -5.1497, -6.7840],\n",
       "         [-6.7849, -5.1498, -3.5432, -2.0709, -1.0853, -1.0853, -2.0709,\n",
       "          -3.5432, -5.1497, -6.7840],\n",
       "         [-6.7849, -5.1498, -3.5432, -2.0709, -1.0853, -1.0853, -2.0709,\n",
       "          -3.5432, -5.1497, -6.7840],\n",
       "         [-6.7849, -5.1498, -3.5432, -2.0709, -1.0853, -1.0853, -2.0709,\n",
       "          -3.5432, -5.1497, -6.7840]],\n",
       "\n",
       "        [[-6.7849, -5.1498, -3.5432, -2.0709, -1.0853, -1.0853, -2.0709,\n",
       "          -3.5432, -5.1497, -6.7840],\n",
       "         [-6.7849, -5.1498, -3.5432, -2.0709, -1.0853, -1.0853, -2.0709,\n",
       "          -3.5432, -5.1497, -6.7840],\n",
       "         [-6.7849, -5.1498, -3.5432, -2.0709, -1.0853, -1.0853, -2.0709,\n",
       "          -3.5432, -5.1497, -6.7840],\n",
       "         [-6.7849, -5.1498, -3.5432, -2.0709, -1.0853, -1.0853, -2.0709,\n",
       "          -3.5432, -5.1497, -6.7840],\n",
       "         [-6.7849, -5.1498, -3.5432, -2.0709, -1.0853, -1.0853, -2.0709,\n",
       "          -3.5432, -5.1497, -6.7840],\n",
       "         [-6.7849, -5.1498, -3.5432, -2.0709, -1.0853, -1.0853, -2.0709,\n",
       "          -3.5432, -5.1497, -6.7840],\n",
       "         [-6.7849, -5.1498, -3.5432, -2.0709, -1.0853, -1.0853, -2.0709,\n",
       "          -3.5432, -5.1497, -6.7840],\n",
       "         [-6.7849, -5.1498, -3.5432, -2.0709, -1.0853, -1.0853, -2.0709,\n",
       "          -3.5432, -5.1497, -6.7840],\n",
       "         [-6.7849, -5.1498, -3.5432, -2.0709, -1.0853, -1.0853, -2.0709,\n",
       "          -3.5432, -5.1497, -6.7840],\n",
       "         [-6.7849, -5.1498, -3.5432, -2.0709, -1.0853, -1.0853, -2.0709,\n",
       "          -3.5432, -5.1497, -6.7840]],\n",
       "\n",
       "        [[-6.7849, -5.1498, -3.5432, -2.0709, -1.0853, -1.0853, -2.0709,\n",
       "          -3.5432, -5.1497, -6.7840],\n",
       "         [-6.7849, -5.1498, -3.5432, -2.0709, -1.0853, -1.0853, -2.0709,\n",
       "          -3.5432, -5.1497, -6.7840],\n",
       "         [-6.7849, -5.1498, -3.5432, -2.0709, -1.0853, -1.0853, -2.0709,\n",
       "          -3.5432, -5.1497, -6.7840],\n",
       "         [-6.7849, -5.1498, -3.5432, -2.0709, -1.0853, -1.0853, -2.0709,\n",
       "          -3.5432, -5.1497, -6.7840],\n",
       "         [-6.7849, -5.1498, -3.5432, -2.0709, -1.0853, -1.0853, -2.0709,\n",
       "          -3.5432, -5.1497, -6.7840],\n",
       "         [-6.7849, -5.1498, -3.5432, -2.0709, -1.0853, -1.0853, -2.0709,\n",
       "          -3.5432, -5.1497, -6.7840],\n",
       "         [-6.7849, -5.1498, -3.5432, -2.0709, -1.0853, -1.0853, -2.0709,\n",
       "          -3.5432, -5.1497, -6.7840],\n",
       "         [-6.7849, -5.1498, -3.5432, -2.0709, -1.0853, -1.0853, -2.0709,\n",
       "          -3.5432, -5.1497, -6.7840],\n",
       "         [-6.7849, -5.1498, -3.5432, -2.0709, -1.0853, -1.0853, -2.0709,\n",
       "          -3.5432, -5.1497, -6.7840],\n",
       "         [-6.7849, -5.1498, -3.5432, -2.0709, -1.0853, -1.0853, -2.0709,\n",
       "          -3.5432, -5.1497, -6.7840]]])"
      ]
     },
     "execution_count": 95,
     "metadata": {},
     "output_type": "execute_result"
    }
   ],
   "source": [
    "loc = torch.zeros(5, 10)\n",
    "log_scale = torch.zeros(5, 10)\n",
    "get_logits_from_logistic_pars(loc, log_scale)"
   ]
  },
  {
   "cell_type": "code",
   "execution_count": null,
   "id": "a3e628d7-0fda-4acc-8df7-d937cba06062",
   "metadata": {},
   "outputs": [],
   "source": []
  },
  {
   "cell_type": "code",
   "execution_count": 80,
   "id": "d5b2c1dd-3031-4aba-99b8-a58560ec3cae",
   "metadata": {},
   "outputs": [
    {
     "data": {
      "image/png": "[encoded data removed]",
      "text/plain": [
       "<Figure size 640x480 with 1 Axes>"
      ]
     },
     "metadata": {},
     "output_type": "display_data"
    }
   ],
   "source": [
    "log_scale = -0.8\n",
    "inv_scale = np.exp(-log_scale + 2.0)\n",
    "n_classes = 2\n",
    "bin_width = 2.0 / (num_classes - 1)\n",
    "def f(x):\n",
    "    # f = lambda x : np.log(1/(1 + np.exp(- inv_scale * (x  + 0.5 * bin_width))) - 1/(1 + np.exp(- inv_scale* (x  - 0.5 * bin_width))))\n",
    "    # a = 1/(1 + np.exp(- inv_scale * (x  + 0.5 * bin_width)))\n",
    "    # b = 1/(1 + np.exp(- inv_scale* (x  - 0.5 * bin_width)))\n",
    "    # return np.log(a - b)\n",
    "    log_cdf_min = -torch.log1p((-inv_scale * (x - 0.5 * bin_width)).exp())\n",
    "    log_cdf_plus = -torch.log1p((-inv_scale * (x + 0.5 * bin_width)).exp())\n",
    "    return log_cdf_plus + torch.log1p(-torch.exp(log_cdf_min - log_cdf_plus) + 1e-6)\n",
    "\n",
    "import matplotlib.pyplot as plt\n",
    "import numpy as np\n",
    "x = np.linspace(-1, 1, n_classes)\n",
    "y = f(torch.from_numpy(x)).numpy()\n",
    "plt.plot(x, y)\n",
    "plt.yticks(np.arange(-n_classes, n_classes, 1))\n",
    "plt.show()"
   ]
  },
  {
   "cell_type": "code",
   "execution_count": 72,
   "id": "76b0b5e6-be2d-4434-95e6-4b5cf9b01e58",
   "metadata": {},
   "outputs": [],
   "source": [
    "import torch.nn.functional as F"
   ]
  },
  {
   "cell_type": "code",
   "execution_count": 91,
   "id": "342ef428-f61b-4644-8dc4-e27af8af4c16",
   "metadata": {},
   "outputs": [],
   "source": [
    "# Example of target with class indices\n",
    "loss = torch.nn.CrossEntropyLoss()\n",
    "input = torch.randn(3, 5, requires_grad=True)\n",
    "target = torch.empty(3, dtype=torch.long).random_(5)\n",
    "output = loss(input, target)"
   ]
  },
  {
   "cell_type": "code",
   "execution_count": 92,
   "id": "3656a9ae-9add-4ef4-9704-6ae10f7774f1",
   "metadata": {},
   "outputs": [
    {
     "data": {
      "text/plain": [
       "tensor([4, 2, 2])"
      ]
     },
     "execution_count": 92,
     "metadata": {},
     "output_type": "execute_result"
    }
   ],
   "source": [
    "target"
   ]
  },
  {
   "cell_type": "code",
   "execution_count": 93,
   "id": "cc2cbbc1-2cab-4581-9d50-eec86c80e047",
   "metadata": {},
   "outputs": [
    {
     "data": {
      "text/plain": [
       "tensor([[-1.3242, -0.5223, -0.1654,  1.0347, -2.5637],\n",
       "        [ 0.7290,  0.1215, -1.1901,  1.7299, -1.8947],\n",
       "        [ 0.9084,  0.1120,  0.0902, -0.9613, -0.3364]], requires_grad=True)"
      ]
     },
     "execution_count": 93,
     "metadata": {},
     "output_type": "execute_result"
    }
   ],
   "source": [
    "input"
   ]
  },
  {
   "cell_type": "code",
   "execution_count": 17,
   "id": "a74c38ce-abe0-44d5-b03c-863b22164d26",
   "metadata": {},
   "outputs": [
    {
     "data": {
      "text/plain": [
       "tensor([[[[-0.5189]]]])"
      ]
     },
     "execution_count": 17,
     "metadata": {},
     "output_type": "execute_result"
    }
   ],
   "source": [
    "log_scale"
   ]
  },
  {
   "cell_type": "code",
   "execution_count": 83,
   "id": "3e90b000-a8f4-40b9-8fb6-bd2c190a8955",
   "metadata": {},
   "outputs": [],
   "source": [
    "a = torch.rand(5)\n",
    "b = torch.rand(4, 6, 1)"
   ]
  },
  {
   "cell_type": "code",
   "execution_count": 87,
   "id": "d6c46fe7-fadc-49d5-ae2b-9ec50bfaa477",
   "metadata": {},
   "outputs": [
    {
     "data": {
      "text/plain": [
       "tensor([[[-0.2368, -0.1274,  0.2704,  0.4074,  0.4190],\n",
       "         [-0.6242, -0.5147, -0.1169,  0.0200,  0.0316],\n",
       "         [-0.3406, -0.2311,  0.1667,  0.3036,  0.3152],\n",
       "         [-0.2939, -0.1845,  0.2133,  0.3503,  0.3619],\n",
       "         [-0.6538, -0.5443, -0.1465, -0.0096,  0.0020],\n",
       "         [-0.1861, -0.0767,  0.3211,  0.4581,  0.4697]],\n",
       "\n",
       "        [[-0.5814, -0.4720, -0.0742,  0.0628,  0.0744],\n",
       "         [-0.3413, -0.2319,  0.1659,  0.3029,  0.3145],\n",
       "         [-0.2290, -0.1196,  0.2782,  0.4152,  0.4268],\n",
       "         [-0.2854, -0.1759,  0.2219,  0.3588,  0.3704],\n",
       "         [-0.1633, -0.0539,  0.3439,  0.4809,  0.4925],\n",
       "         [-0.3065, -0.1970,  0.2008,  0.3377,  0.3493]],\n",
       "\n",
       "        [[-0.5535, -0.4441, -0.0463,  0.0907,  0.1023],\n",
       "         [-0.6832, -0.5738, -0.1760, -0.0390, -0.0274],\n",
       "         [ 0.0037,  0.1131,  0.5109,  0.6479,  0.6595],\n",
       "         [ 0.0723,  0.1818,  0.5796,  0.7165,  0.7281],\n",
       "         [-0.2490, -0.1395,  0.2583,  0.3953,  0.4069],\n",
       "         [-0.5142, -0.4047, -0.0069,  0.1300,  0.1416]],\n",
       "\n",
       "        [[-0.1122, -0.0027,  0.3951,  0.5320,  0.5437],\n",
       "         [-0.5403, -0.4308, -0.0330,  0.1039,  0.1155],\n",
       "         [ 0.0212,  0.1306,  0.5284,  0.6654,  0.6770],\n",
       "         [-0.3255, -0.2161,  0.1817,  0.3187,  0.3303],\n",
       "         [ 0.0124,  0.1219,  0.5197,  0.6566,  0.6682],\n",
       "         [-0.1220, -0.0126,  0.3852,  0.5222,  0.5338]]])"
      ]
     },
     "execution_count": 87,
     "metadata": {},
     "output_type": "execute_result"
    }
   ],
   "source": [
    "a - b"
   ]
  },
  {
   "cell_type": "code",
   "execution_count": 86,
   "id": "414ec737-1b21-4e25-aea6-120b32d39ffb",
   "metadata": {},
   "outputs": [
    {
     "data": {
      "text/plain": [
       "tensor([[[-0.2368, -0.1274,  0.2704,  0.4074,  0.4190],\n",
       "         [-0.6242, -0.5147, -0.1169,  0.0200,  0.0316],\n",
       "         [-0.3406, -0.2311,  0.1667,  0.3036,  0.3152],\n",
       "         [-0.2939, -0.1845,  0.2133,  0.3503,  0.3619],\n",
       "         [-0.6538, -0.5443, -0.1465, -0.0096,  0.0020],\n",
       "         [-0.1861, -0.0767,  0.3211,  0.4581,  0.4697]],\n",
       "\n",
       "        [[-0.5814, -0.4720, -0.0742,  0.0628,  0.0744],\n",
       "         [-0.3413, -0.2319,  0.1659,  0.3029,  0.3145],\n",
       "         [-0.2290, -0.1196,  0.2782,  0.4152,  0.4268],\n",
       "         [-0.2854, -0.1759,  0.2219,  0.3588,  0.3704],\n",
       "         [-0.1633, -0.0539,  0.3439,  0.4809,  0.4925],\n",
       "         [-0.3065, -0.1970,  0.2008,  0.3377,  0.3493]],\n",
       "\n",
       "        [[-0.5535, -0.4441, -0.0463,  0.0907,  0.1023],\n",
       "         [-0.6832, -0.5738, -0.1760, -0.0390, -0.0274],\n",
       "         [ 0.0037,  0.1131,  0.5109,  0.6479,  0.6595],\n",
       "         [ 0.0723,  0.1818,  0.5796,  0.7165,  0.7281],\n",
       "         [-0.2490, -0.1395,  0.2583,  0.3953,  0.4069],\n",
       "         [-0.5142, -0.4047, -0.0069,  0.1300,  0.1416]],\n",
       "\n",
       "        [[-0.1122, -0.0027,  0.3951,  0.5320,  0.5437],\n",
       "         [-0.5403, -0.4308, -0.0330,  0.1039,  0.1155],\n",
       "         [ 0.0212,  0.1306,  0.5284,  0.6654,  0.6770],\n",
       "         [-0.3255, -0.2161,  0.1817,  0.3187,  0.3303],\n",
       "         [ 0.0124,  0.1219,  0.5197,  0.6566,  0.6682],\n",
       "         [-0.1220, -0.0126,  0.3852,  0.5222,  0.5338]]])"
      ]
     },
     "execution_count": 86,
     "metadata": {},
     "output_type": "execute_result"
    }
   ],
   "source": [
    "a.unsqueeze(dim=0).unsqueeze(dim=0) - b"
   ]
  },
  {
   "cell_type": "code",
   "execution_count": 89,
   "id": "516de641-661d-494c-9ee2-cd3bd1728039",
   "metadata": {},
   "outputs": [
    {
     "data": {
      "text/plain": [
       "3"
      ]
     },
     "execution_count": 89,
     "metadata": {},
     "output_type": "execute_result"
    }
   ],
   "source": [
    "b.ndim"
   ]
  },
  {
   "cell_type": "code",
   "execution_count": null,
   "id": "a3e09d2b-c90d-4e0f-bca6-1f184219f884",
   "metadata": {},
   "outputs": [],
   "source": []
  },
  {
   "cell_type": "code",
   "execution_count": 42,
   "id": "57f5cbbe-59eb-448e-9939-6dce5fb89d77",
   "metadata": {},
   "outputs": [
    {
     "data": {
      "text/plain": [
       "tensor([0.0000, 0.2000, 0.4000, 0.6000, 0.8000, 1.0000], dtype=torch.float64)"
      ]
     },
     "execution_count": 42,
     "metadata": {},
     "output_type": "execute_result"
    }
   ],
   "source": [
    "torch.arange(5 + 1, dtype=torch.float64) / 5"
   ]
  },
  {
   "cell_type": "code",
   "execution_count": null,
   "id": "378a96e4-d99a-4e6d-9ce7-ea56a3d9621d",
   "metadata": {},
   "outputs": [],
   "source": [
    "# sampled_adata_test = sampled_adata_test.T\n",
    "sampled_adata_test.layers['x_raw'] = sampled_adata_test.X.copy()\n",
    "sampled_adata_test = pseudo_bulk(sampled_adata_test,\n",
    "            genes=list(sampled_adata_test.obs['ens_id']),\n",
    "            cell_type_col='cell types',\n",
    "            gene_col='ens_id',\n",
    "            mode='mean',\n",
    "            expr_threshold=0,\n",
    "            mem_efficient_mode=True,\n",
    "            layer='x_raw')"
   ]
  },
  {
   "cell_type": "code",
   "execution_count": null,
   "id": "3d497aa0-797b-420b-a352-880ccd66abb0",
   "metadata": {},
   "outputs": [],
   "source": []
  }
 ],
 "metadata": {
  "kernelspec": {
   "display_name": "Python 3 (ipykernel)",
   "language": "python",
   "name": "python3"
  },
  "language_info": {
   "codemirror_mode": {
    "name": "ipython",
    "version": 3
   },
   "file_extension": ".py",
   "mimetype": "text/x-python",
   "name": "python",
   "nbconvert_exporter": "python",
   "pygments_lexer": "ipython3",
   "version": "3.8.13"
  }
 },
 "nbformat": 4,
 "nbformat_minor": 5
}
