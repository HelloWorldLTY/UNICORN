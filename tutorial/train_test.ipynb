{
 "cells": [
  {
   "cell_type": "code",
   "execution_count": null,
   "metadata": {
    "vscode": {
     "languageId": "plaintext"
    }
   },
   "outputs": [],
   "source": [
    "!export PYTHONPATH=\"${PYTHONPATH}:../\" && bash repro_train.sh # please ensure the codes from seq2cells are listed in parallel with the parent folder."
   ]
  },
  {
   "cell_type": "code",
   "execution_count": null,
   "metadata": {
    "vscode": {
     "languageId": "plaintext"
    }
   },
   "outputs": [],
   "source": [
    "!export PYTHONPATH=\"${PYTHONPATH}:../\" && bash repro_predict_eval.sh \\\n",
    "\"/gpfs/radev/project/ying_rex/tl688/seq2cells/tests/model_checkpoints_pbmc_test_differentnorm/sequence_emb2cells_pbmc_test_differentnorm_bs_1024_drop_0.5_lr_0.0001_wd_0.1_we_1_lrs_reduce_on_plateau/epoch=25-valid_corr_across_tss=0.632-valid_corr_across_celltypes=0.051-val_loss=1.564.ckpt\" # you can replase this with the output model checkpoint"
   ]
  },
  {
   "cell_type": "markdown",
   "metadata": {},
   "source": [
    "For details, please check the configration files in the scripts/configs folder."
   ]
  }
 ],
 "metadata": {
  "language_info": {
   "name": "python"
  }
 },
 "nbformat": 4,
 "nbformat_minor": 2
}
